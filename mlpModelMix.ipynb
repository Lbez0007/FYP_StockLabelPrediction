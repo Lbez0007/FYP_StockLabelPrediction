{
 "cells": [
  {
   "cell_type": "markdown",
   "metadata": {},
   "source": [
    "## Define Dynamic Parameters"
   ]
  },
  {
   "cell_type": "code",
   "execution_count": 5,
   "metadata": {
    "pycharm": {
     "name": "#%%\n"
    },
    "tags": [
     "parameters"
    ]
   },
   "outputs": [],
   "source": [
    "file_no = 0\n",
    "my_seed = 64"
   ]
  },
  {
   "cell_type": "markdown",
   "metadata": {},
   "source": [
    "## Import Packages"
   ]
  },
  {
   "cell_type": "code",
   "execution_count": 6,
   "metadata": {
    "pycharm": {
     "name": "#%%\n"
    }
   },
   "outputs": [],
   "source": [
    "import numpy as np\n",
    "import matplotlib\n",
    "import matplotlib.pyplot as plt\n",
    "import pandas as pd\n",
    "import glob\n",
    "import os\n",
    "from sklearn.model_selection import  train_test_split\n",
    "from sklearn.preprocessing import StandardScaler\n",
    "import tensorflow as tf\n",
    "import ntpath\n",
    "\n",
    "tf.random.set_seed(my_seed)\n",
    "np.random.seed(my_seed)"
   ]
  },
  {
   "cell_type": "markdown",
   "metadata": {},
   "source": [
    "## Import CSVs"
   ]
  },
  {
   "cell_type": "code",
   "execution_count": 7,
   "metadata": {
    "pycharm": {
     "name": "#%%\n"
    }
   },
   "outputs": [
    {
     "name": "stdout",
     "output_type": "stream",
     "text": [
      "C:\\Users\\Dell\\Documents\\B.Sc IT (Hons.) Computing and Business\\FYP - Luke Bezzina\\Code\\mlpLearning\\..\\..\\Datasets\\processed\\regression_10d\n",
      "Stock: \n",
      "AAL\n",
      "64\n"
     ]
    }
   ],
   "source": [
    "ROOT_DIR = os.path.abspath(os.curdir)\n",
    "path = ROOT_DIR + '\\\\..\\\\..\\\\Datasets\\\\processed\\\\regression_10d'\n",
    "print(path)\n",
    "\n",
    "csvfiles = glob.glob(path + \"/*.csv\")\n",
    "dfs = []\n",
    "\n",
    "for file in csvfiles:\n",
    "    df = pd.read_csv(file)\n",
    "    df.name = (ntpath.basename(file)).split(\".\",1)[0]\n",
    "    dfs.append(df)\n",
    "\n",
    "df = dfs[file_no]\n",
    "print(\"Stock: \")\n",
    "print(df.name)\n",
    "print(my_seed)"
   ]
  },
  {
   "cell_type": "markdown",
   "metadata": {},
   "source": [
    "# Splitting dataset in dependent and independent variables"
   ]
  },
  {
   "cell_type": "code",
   "execution_count": 8,
   "metadata": {
    "pycharm": {
     "name": "#%%\n"
    }
   },
   "outputs": [],
   "source": [
    "x = np.array(df.iloc[:, 1:-1].values, dtype=np.float)\n",
    "#x = np.array(df.iloc[:, 0:-1].values)\n",
    "y = np.array(df.iloc[:, -1:].values)\n"
   ]
  },
  {
   "cell_type": "markdown",
   "metadata": {},
   "source": [
    "# Splitting dataset (training + testing)"
   ]
  },
  {
   "cell_type": "code",
   "execution_count": 9,
   "metadata": {
    "pycharm": {
     "name": "#%%\n"
    }
   },
   "outputs": [
    {
     "name": "stdout",
     "output_type": "stream",
     "text": [
      "Train - Independent Variables\n",
      "[['2017-01-19' 0.4000000000000057 -0.4099999999999966 ...\n",
      "  -0.030125666973886182 0.8916972580422119 47.64]\n",
      " ['2017-01-20' -0.8100000000000023 -0.490000000000002 ...\n",
      "  -0.054502054164215684 0.8686656433864525 47.26]\n",
      " ['2017-01-23' 0.3200000000000003 1.1899999999999975 ...\n",
      "  -0.03558202675732302 0.7284977693857406 48.0]\n",
      " ...\n",
      " ['2020-08-06' 0.41000000000000014 0.030000000000001137 ...\n",
      "  -0.016212034220245232 0.41545276506481466 12.56]\n",
      " ['2020-08-07' -0.37999999999999895 -0.37999999999999895 ...\n",
      "  0.052660918865283464 0.6189022539949259 13.04]\n",
      " ['2020-08-10' 0.0 0.37999999999999895 ... 0.08843578471566407\n",
      "  0.7369559009872978 13.03]]\n",
      "Test - Independent Variables\n",
      "[['2020-08-11' 0.37999999999999895 0.009999999999999787 ...\n",
      "  0.10958565887892988 0.9695798058953166 14.0]\n",
      " ['2020-08-12' -0.3699999999999992 -0.5899999999999999 ...\n",
      "  0.1561962851234767 1.081752744392174 13.73]\n",
      " ['2020-08-13' -0.22000000000000064 -0.28000000000000114 ...\n",
      "  0.1466658764314185 1.1017463410422563 13.54]\n",
      " ...\n",
      " ['2020-12-29' -0.3500000000000014 -0.03999999999999915 ...\n",
      "  -0.030518140507812364 0.5117626402933299 16.06]\n",
      " ['2020-12-30' 0.3100000000000023 0.16000000000000014 ...\n",
      "  -0.03160267170018302 0.5092946102208429 15.86]\n",
      " ['2020-12-31' -0.15000000000000213 -0.21000000000000085 ...\n",
      "  -0.021327819213507848 0.43655583835289613 16.15]]\n"
     ]
    },
    {
     "ename": "NameError",
     "evalue": "name 'dgdf' is not defined",
     "output_type": "error",
     "traceback": [
      "\u001B[1;31m---------------------------------------------------------------------------\u001B[0m",
      "\u001B[1;31mNameError\u001B[0m                                 Traceback (most recent call last)",
      "\u001B[1;32m<ipython-input-9-f2037d25038a>\u001B[0m in \u001B[0;36m<module>\u001B[1;34m\u001B[0m\n\u001B[0;32m      5\u001B[0m \u001B[0mprint\u001B[0m\u001B[1;33m(\u001B[0m\u001B[1;34m\"Test - Independent Variables\"\u001B[0m\u001B[1;33m)\u001B[0m\u001B[1;33m\u001B[0m\u001B[1;33m\u001B[0m\u001B[0m\n\u001B[0;32m      6\u001B[0m \u001B[0mprint\u001B[0m\u001B[1;33m(\u001B[0m\u001B[0mx_test\u001B[0m\u001B[1;33m)\u001B[0m\u001B[1;33m\u001B[0m\u001B[1;33m\u001B[0m\u001B[0m\n\u001B[1;32m----> 7\u001B[1;33m \u001B[0mdgdf\u001B[0m\u001B[1;33m\u001B[0m\u001B[1;33m\u001B[0m\u001B[0m\n\u001B[0m\u001B[0;32m      8\u001B[0m \u001B[1;31m# print(\"Train - Dependent Variables\")\u001B[0m\u001B[1;33m\u001B[0m\u001B[1;33m\u001B[0m\u001B[1;33m\u001B[0m\u001B[0m\n\u001B[0;32m      9\u001B[0m \u001B[1;31m# print(y_train)\u001B[0m\u001B[1;33m\u001B[0m\u001B[1;33m\u001B[0m\u001B[1;33m\u001B[0m\u001B[0m\n",
      "\u001B[1;31mNameError\u001B[0m: name 'dgdf' is not defined"
     ]
    }
   ],
   "source": [
    "x_train, x_test, y_train, y_test = train_test_split(x, y, test_size=0.1, shuffle=False, random_state=32)\n",
    "\n",
    "print(\"Train - Independent Variables\")\n",
    "print(x_train)\n",
    "print(\"Test - Independent Variables\")\n",
    "print(x_test)\n",
    "# print(\"Train - Dependent Variables\")\n",
    "# print(y_train)\n",
    "# print(\"Test - Dependent Variables\")\n",
    "# print(y_test)\n",
    "\n",
    "# trg_cols_to_std = x_train[:, 10:12]\n",
    "# test_cols_to_std = x_test[:, 10:12]\n",
    "#\n",
    "# scaler = StandardScaler()\n",
    "# scaler.fit(trg_cols_to_std)\n",
    "# trg_cols_to_std = scaler.transform(trg_cols_to_std)\n",
    "# test_cols_to_std = scaler.transform(test_cols_to_std)\n",
    "#\n",
    "# x_train[:, 10:12] = trg_cols_to_std\n",
    "# x_test[:, 10:12] = test_cols_to_std"
   ]
  },
  {
   "cell_type": "markdown",
   "metadata": {},
   "source": [
    "# Building ANN with MLP"
   ]
  },
  {
   "cell_type": "code",
   "execution_count": null,
   "metadata": {
    "pycharm": {
     "name": "#%%\n"
    }
   },
   "outputs": [],
   "source": [
    "ann = tf.keras.models.Sequential()\n",
    "# hidden layers\n",
    "ann.add(tf.keras.layers.Dense(units=7, activation='relu'))\n",
    "# ann.add(tf.keras.layers.Dense(units=5, activation='relu'))\n",
    "# output layer\n",
    "ann.add(tf.keras.layers.Dense(units=1, activation='linear'))\n",
    "\n",
    "optimizer = tf.keras.optimizers.Adam()\n",
    "ann.compile(optimizer = optimizer, loss = 'mean_squared_error')\n",
    "\n",
    "ann.fit(x_train, y_train, batch_size = 32, epochs = 200)\n",
    "\n",
    "weights = ann.get_weights()"
   ]
  },
  {
   "cell_type": "markdown",
   "metadata": {},
   "source": [
    "# Predicting Test Set Results"
   ]
  },
  {
   "cell_type": "code",
   "execution_count": null,
   "metadata": {
    "pycharm": {
     "name": "#%%\n"
    }
   },
   "outputs": [],
   "source": [
    "y_pred = ann.predict(x_test)\n",
    "# boolean result of whether predicted probability is larger than 0.5\n",
    "# result > 0.5 = 1, result <= 0.5 = 0\n",
    "np.set_printoptions(precision=2)\n",
    "print(np.concatenate((y_pred.reshape(len(y_pred),1), y_test.reshape(len(y_test),1)),1))\n"
   ]
  },
  {
   "cell_type": "markdown",
   "metadata": {},
   "source": [
    "# Obtaining Confusion Matrix and Accuracy Score for predictions"
   ]
  },
  {
   "cell_type": "code",
   "execution_count": null,
   "metadata": {
    "pycharm": {
     "name": "#%%\n"
    }
   },
   "outputs": [],
   "source": [
    "from sklearn.metrics import mean_absolute_error\n",
    "\n",
    "\n",
    "print()\n",
    "print(\"Mean Absolute Error: \")\n",
    "mean_absolute_error(y_test, y_pred)"
   ]
  },
  {
   "cell_type": "markdown",
   "metadata": {},
   "source": [
    "# Classifying results"
   ]
  },
  {
   "cell_type": "code",
   "execution_count": null,
   "metadata": {
    "pycharm": {
     "name": "#%%\n"
    }
   },
   "outputs": [],
   "source": [
    "prediction_arr = []\n",
    "actuals_arr = []\n",
    "neutral_percentage = 0.002\n",
    "\n",
    "for i in range(1, len(y_pred)):\n",
    "    if y_pred[i] - y_test[i-1] > (y_pred[i] * neutral_percentage):\n",
    "            prediction_arr.append([1,0,0])\n",
    "    elif y_pred[i] - y_test[i-1]  < - (y_pred[i] * neutral_percentage):\n",
    "            prediction_arr.append([0,0,1])\n",
    "    else:\n",
    "            prediction_arr.append([0,1,0])\n",
    "\n",
    "for i in range(1, len(y_test)):\n",
    "    if y_test[i] - y_test[i-1] > (y_test[i] * neutral_percentage):\n",
    "            actuals_arr.append([1,0,0])\n",
    "    elif y_test[i] - y_test[i-1]  < - (y_test[i] * neutral_percentage):\n",
    "            actuals_arr.append([0,0,1])\n",
    "    else:\n",
    "            actuals_arr.append([0,1,0])\n",
    "\n",
    "actuals_arr = np.array(actuals_arr)\n",
    "prediction_arr = np.array(prediction_arr)\n",
    "\n"
   ]
  },
  {
   "cell_type": "markdown",
   "metadata": {},
   "source": [
    "# Results"
   ]
  },
  {
   "cell_type": "code",
   "execution_count": null,
   "metadata": {
    "pycharm": {
     "name": "#%%\n"
    }
   },
   "outputs": [],
   "source": [
    "%%capture cap\n",
    "\n",
    "from sklearn.metrics import multilabel_confusion_matrix, accuracy_score\n",
    "\n",
    "# Confusion Matrix: Columns = 0, 1 (Predicted Label)\n",
    "# Confusion Matrix: Rows = 0, 1 (Actual Label)\n",
    "cm = multilabel_confusion_matrix(np.argmax(actuals_arr, axis=1), np.argmax(prediction_arr, axis=1))\n",
    "print(cm)\n",
    "print()\n",
    "\n",
    "print(\"Accuracy Score: \")\n",
    "print(accuracy_score(actuals_arr, prediction_arr))"
   ]
  },
  {
   "cell_type": "markdown",
   "metadata": {},
   "source": [
    "# Graphs"
   ]
  },
  {
   "cell_type": "code",
   "execution_count": null,
   "metadata": {
    "pycharm": {
     "name": "#%%\n"
    }
   },
   "outputs": [],
   "source": [
    "%matplotlib inline\n",
    "\n",
    "with open(ROOT_DIR+'\\\\regression_results\\\\'+df.name + '_' + str(my_seed) +'.txt', 'w') as f:\n",
    "    f.write(cap.stdout)\n",
    "    \n",
    "test_nos = []\n",
    "for i, val in enumerate(y_test):\n",
    "    test_nos.append(i)\n",
    "plt.plot(test_nos, y_test)\n",
    "plt.plot(test_nos, y_pred, color='green')"
   ]
  },
  {
   "cell_type": "code",
   "execution_count": null,
   "metadata": {},
   "outputs": [],
   "source": []
  }
 ],
 "metadata": {
  "celltoolbar": "Tags",
  "kernelspec": {
   "display_name": "Python 3",
   "language": "python",
   "name": "python3"
  },
  "language_info": {
   "codemirror_mode": {
    "name": "ipython",
    "version": 3
   },
   "file_extension": ".py",
   "mimetype": "text/x-python",
   "name": "python",
   "nbconvert_exporter": "python",
   "pygments_lexer": "ipython3",
   "version": "3.7.10"
  }
 },
 "nbformat": 4,
 "nbformat_minor": 1
}