{
 "cells": [
  {
   "cell_type": "markdown",
   "source": [
    "## Import Packages"
   ],
   "metadata": {
    "collapsed": false
   }
  },
  {
   "cell_type": "code",
   "execution_count": 7,
   "outputs": [
    {
     "name": "stdout",
     "output_type": "stream",
     "text": [
      "1.3.3\n"
     ]
    }
   ],
   "source": [
    "import numpy as np\n",
    "from numpy import asarray\n",
    "import matplotlib\n",
    "import matplotlib.pyplot as plt\n",
    "import pandas as pd\n",
    "import glob\n",
    "import os\n",
    "from sklearn.model_selection import  train_test_split\n",
    "from sklearn.preprocessing import StandardScaler\n",
    "import tensorflow as tf\n",
    "import ntpath\n",
    "import xgboost as xgb\n",
    "from xgboost import XGBRegressor\n",
    "print(xgb.__version__)\n",
    "my_seed = 64\n",
    "tf.random.set_seed(my_seed)\n",
    "np.random.seed(my_seed)"
   ],
   "metadata": {
    "collapsed": false,
    "pycharm": {
     "name": "#%%\n"
    }
   }
  },
  {
   "cell_type": "markdown",
   "source": [
    "## Import CSVs"
   ],
   "metadata": {
    "collapsed": false
   }
  },
  {
   "cell_type": "code",
   "execution_count": 8,
   "outputs": [
    {
     "name": "stdout",
     "output_type": "stream",
     "text": [
      "C:\\Users\\Dell\\Documents\\B.Sc IT (Hons.) Computing and Business\\FYP - Luke Bezzina\\Code\\mlpLearning\\..\\..\\Datasets\\processed\\regression_10d\n",
      "Stock: \n",
      "NFLX.csv\n"
     ]
    }
   ],
   "source": [
    "ROOT_DIR = os.path.abspath(os.curdir)\n",
    "path = ROOT_DIR + '\\\\..\\\\..\\\\Datasets\\\\processed\\\\regression_10d'\n",
    "print(path)\n",
    "\n",
    "csvfiles = glob.glob(path + \"/*.csv\")\n",
    "dfs = []\n",
    "\n",
    "for file in csvfiles:\n",
    "    df = pd.read_csv(file)\n",
    "    df.name = ntpath.basename(file)\n",
    "    dfs.append(df)\n",
    "\n",
    "df = dfs[15]\n",
    "print(\"Stock: \")\n",
    "print(df.name)"
   ],
   "metadata": {
    "collapsed": false,
    "pycharm": {
     "name": "#%%\n"
    }
   }
  },
  {
   "cell_type": "markdown",
   "source": [
    "# Splitting dataset in dependent and independent variables"
   ],
   "metadata": {
    "collapsed": false
   }
  },
  {
   "cell_type": "code",
   "execution_count": 9,
   "outputs": [],
   "source": [
    "x = np.array(df.iloc[:, 1:-1].values, dtype=np.float)\n",
    "y = np.array(df.iloc[:, -1:].values)\n"
   ],
   "metadata": {
    "collapsed": false,
    "pycharm": {
     "name": "#%%\n"
    }
   }
  },
  {
   "cell_type": "markdown",
   "source": [
    "# Splitting dataset (training + testing)"
   ],
   "metadata": {
    "collapsed": false
   }
  },
  {
   "cell_type": "code",
   "execution_count": 10,
   "outputs": [
    {
     "name": "stdout",
     "output_type": "stream",
     "text": [
      "Train - Independent Variables\n",
      "[[ 1.92000000e+00  4.32000000e+00  3.58000000e+00 ...  5.58257163e-02\n",
      "   1.52473735e+00  1.33260000e+02]\n",
      " [ 2.40000000e+00  1.66000000e+00  1.54000000e+00 ...  1.55572339e-01\n",
      "   2.50480019e+00  1.38410000e+02]\n",
      " [-7.40000000e-01 -8.60000000e-01 -1.92000000e+00 ...  1.11526436e-01\n",
      "   3.15276783e+00  1.38600000e+02]\n",
      " ...\n",
      " [ 1.20200000e+01 -2.60000000e-01  1.47600000e+01 ...  2.53620543e-02\n",
      "   2.04437141e+01  3.36300000e+02]\n",
      " [-1.22800000e+01  2.74000000e+00 -8.27000000e+00 ...  5.03274666e-02\n",
      "   2.56801519e+01  2.98840000e+02]\n",
      " [ 1.50200000e+01  4.01000000e+00  2.00000000e-01 ...  5.24849174e-02\n",
      "   2.63979707e+01  3.19750000e+02]]\n",
      "Test - Independent Variables\n",
      "[[-1.10100000e+01 -1.48200000e+01 -3.73000000e+01 ...  8.28724745e-02\n",
      "   2.44010516e+01  3.15470000e+02]\n",
      " [-3.81000000e+00 -2.62900000e+01 -8.65000000e+00 ...  5.64515671e-02\n",
      "   2.16296890e+01  3.32030000e+02]\n",
      " [-2.24800000e+01 -4.84000000e+00 -1.90500000e+01 ...  5.93023591e-02\n",
      "   1.83792619e+01  3.32830000e+02]\n",
      " ...\n",
      " [ 1.92000000e+01  1.65600000e+01  2.16100000e+01 ... -9.82264559e-02\n",
      "   6.77732462e+00  5.19120000e+02]\n",
      " [-2.64000000e+00  2.41000000e+00  1.04800000e+01 ... -1.85899179e-02\n",
      "   7.07064665e+00  5.30870000e+02]\n",
      " [ 5.05000000e+00  1.31200000e+01  1.46700000e+01 ... -4.50715934e-02\n",
      "   6.88315952e+00  5.24590000e+02]]\n"
     ]
    }
   ],
   "source": [
    "x_train, x_test, y_train, y_test = train_test_split(x, y, test_size=0.2, shuffle=False, random_state=32)\n",
    "\n",
    "print(\"Train - Independent Variables\")\n",
    "print(x_train)\n",
    "print(\"Test - Independent Variables\")\n",
    "print(x_test)"
   ],
   "metadata": {
    "collapsed": false,
    "pycharm": {
     "name": "#%%\n"
    }
   }
  },
  {
   "cell_type": "markdown",
   "source": [
    "# Predicting using XGBoost Algorithm"
   ],
   "metadata": {
    "collapsed": false
   }
  },
  {
   "cell_type": "code",
   "execution_count": 11,
   "outputs": [],
   "source": [
    "def model_fitting(train, labels):\n",
    "    model = XGBRegressor(objective='reg:squarederror', n_estimators=1000, random_state=my_seed)\n",
    "    model.fit(asarray(train), asarray(labels))\n",
    "    return model"
   ],
   "metadata": {
    "collapsed": false,
    "pycharm": {
     "name": "#%%\n"
    }
   }
  },
  {
   "cell_type": "markdown",
   "source": [
    "# Predicting Test Set Results"
   ],
   "metadata": {
    "collapsed": false
   }
  },
  {
   "cell_type": "code",
   "execution_count": 12,
   "outputs": [
    {
     "name": "stdout",
     "output_type": "stream",
     "text": [
      "[332.03]\n",
      "[332.83]\n",
      "[360.27]\n",
      "[357.32]\n",
      "[342.39]\n",
      "[362.99]\n",
      "[357.12]\n",
      "[370.96]\n",
      "[375.5]\n",
      "[364.08]\n",
      "[370.08]\n",
      "[361.76]\n",
      "[379.96]\n",
      "[372.28]\n",
      "[371.12]\n",
      "[370.72]\n",
      "[396.72]\n",
      "[413.55]\n",
      "[426.75]\n",
      "[439.17]\n",
      "[422.96]\n",
      "[437.49]\n",
      "[433.83]\n",
      "[421.42]\n",
      "[426.7]\n",
      "[424.99]\n",
      "[421.38]\n",
      "[403.83]\n",
      "[411.89]\n",
      "[419.85]\n",
      "[415.27]\n",
      "[428.15]\n",
      "[424.68]\n",
      "[434.26]\n",
      "[436.53]\n",
      "[435.55]\n",
      "[440.52]\n",
      "[431.82]\n",
      "[438.27]\n",
      "[441.95]\n",
      "[454.19]\n",
      "[452.58]\n",
      "[451.04]\n",
      "[447.67]\n",
      "[436.25]\n",
      "[429.32]\n",
      "[414.77]\n",
      "[419.89]\n",
      "[413.44]\n",
      "[419.73]\n",
      "[425.92]\n",
      "[427.31]\n",
      "[421.97]\n",
      "[414.33]\n",
      "[419.6]\n",
      "[419.49]\n",
      "[434.05]\n",
      "[434.48]\n",
      "[425.56]\n",
      "[418.07]\n",
      "[425.5]\n",
      "[436.13]\n",
      "[447.77]\n",
      "[449.87]\n",
      "[453.72]\n",
      "[468.04]\n",
      "[466.26]\n",
      "[457.85]\n",
      "[465.91]\n",
      "[443.4]\n",
      "[447.24]\n",
      "[455.04]\n",
      "[485.64]\n",
      "[476.89]\n",
      "[493.81]\n",
      "[493.16]\n",
      "[502.78]\n",
      "[507.76]\n",
      "[548.73]\n",
      "[525.5]\n",
      "[524.88]\n",
      "[523.26]\n",
      "[527.39]\n",
      "[492.99]\n",
      "[502.41]\n",
      "[490.1]\n",
      "[489.82]\n",
      "[477.58]\n",
      "[480.45]\n",
      "[495.65]\n",
      "[488.51]\n",
      "[484.48]\n",
      "[485.8]\n",
      "[488.88]\n",
      "[498.62]\n",
      "[509.64]\n",
      "[502.11]\n",
      "[509.08]\n",
      "[494.73]\n",
      "[483.38]\n",
      "[466.93]\n",
      "[475.47]\n",
      "[481.33]\n",
      "[482.68]\n",
      "[482.35]\n",
      "[491.87]\n",
      "[484.53]\n",
      "[497.9]\n",
      "[492.31]\n",
      "[488.81]\n",
      "[490.58]\n",
      "[547.53]\n",
      "[526.27]\n",
      "[523.89]\n",
      "[529.56]\n",
      "[556.55]\n",
      "[552.84]\n",
      "[525.75]\n",
      "[516.05]\n",
      "[507.02]\n",
      "[500.19]\n",
      "[480.67]\n",
      "[482.03]\n",
      "[476.26]\n",
      "[495.99]\n",
      "[483.86]\n",
      "[470.2]\n",
      "[469.96]\n",
      "[487.35]\n",
      "[491.17]\n",
      "[470.61]\n",
      "[473.08]\n",
      "[482.88]\n",
      "[490.65]\n",
      "[493.48]\n",
      "[500.03]\n",
      "[527.51]\n",
      "[503.06]\n",
      "[520.65]\n",
      "[505.87]\n",
      "[534.66]\n",
      "[531.79]\n",
      "[539.44]\n",
      "[539.81]\n",
      "[554.09]\n",
      "[541.45]\n",
      "[541.94]\n",
      "[530.79]\n",
      "[530.72]\n",
      "[525.42]\n",
      "[489.05]\n",
      "[485.23]\n",
      "[488.28]\n",
      "[488.24]\n",
      "[488.93]\n",
      "[486.24]\n",
      "[504.21]\n",
      "[475.74]\n",
      "[484.12]\n",
      "[487.22]\n",
      "[496.95]\n",
      "[513.76]\n",
      "[514.73]\n",
      "[470.5]\n",
      "[480.24]\n",
      "[490.76]\n",
      "[486.77]\n",
      "[482.84]\n",
      "[479.1]\n",
      "[480.63]\n",
      "[481.79]\n",
      "[484.67]\n",
      "[488.24]\n",
      "[476.62]\n",
      "[482.88]\n",
      "[485.]\n",
      "[491.36]\n",
      "[490.7]\n",
      "[504.58]\n",
      "[503.38]\n",
      "[497.52]\n",
      "[498.31]\n",
      "[515.78]\n",
      "[512.66]\n",
      "[493.6]\n",
      "[501.09]\n",
      "[503.22]\n",
      "[522.42]\n",
      "[519.78]\n",
      "[524.83]\n",
      "[532.9]\n",
      "[534.45]\n",
      "[528.91]\n",
      "[527.33]\n",
      "[514.48]\n",
      "[513.97]\n",
      "[519.12]\n",
      "[530.87]\n",
      "[524.59]\n",
      "[540.73]\n",
      "[[322.5954895  332.03      ]\n",
      " [337.31973267 332.83      ]\n",
      " [340.22781372 360.27      ]\n",
      " [354.79415894 357.32      ]\n",
      " [351.46969604 342.39      ]\n",
      " [347.1194458  362.99      ]\n",
      " [357.75534058 357.12      ]\n",
      " [359.77700806 370.96      ]\n",
      " [369.90454102 375.5       ]\n",
      " [374.40591431 364.08      ]\n",
      " [358.94488525 370.08      ]\n",
      " [364.9772644  361.76      ]\n",
      " [359.60256958 379.96      ]\n",
      " [378.60171509 372.28      ]\n",
      " [376.66473389 371.12      ]\n",
      " [375.42532349 370.72      ]\n",
      " [374.11801147 396.72      ]\n",
      " [388.72064209 413.55      ]\n",
      " [407.45220947 426.75      ]\n",
      " [411.90457153 439.17      ]\n",
      " [398.26412964 422.96      ]\n",
      " [420.5994873  437.49      ]\n",
      " [414.90103149 433.83      ]\n",
      " [415.4307251  421.42      ]\n",
      " [391.15460205 426.7       ]\n",
      " [422.42285156 424.99      ]\n",
      " [420.90344238 421.38      ]\n",
      " [417.47781372 403.83      ]\n",
      " [394.53872681 411.89      ]\n",
      " [407.32873535 419.85      ]\n",
      " [417.63214111 415.27      ]\n",
      " [424.62533569 428.15      ]\n",
      " [424.81835938 424.68      ]\n",
      " [411.74179077 434.26      ]\n",
      " [426.02102661 436.53      ]\n",
      " [432.39263916 435.55      ]\n",
      " [427.4302063  440.52      ]\n",
      " [426.21884155 431.82      ]\n",
      " [425.71450806 438.27      ]\n",
      " [427.30831909 441.95      ]\n",
      " [434.93634033 454.19      ]\n",
      " [439.58346558 452.58      ]\n",
      " [449.53485107 451.04      ]\n",
      " [441.76211548 447.67      ]\n",
      " [444.19036865 436.25      ]\n",
      " [438.61871338 429.32      ]\n",
      " [427.33569336 414.77      ]\n",
      " [412.5090332  419.89      ]\n",
      " [411.22839355 413.44      ]\n",
      " [407.37490845 419.73      ]\n",
      " [419.71282959 425.92      ]\n",
      " [430.24441528 427.31      ]\n",
      " [426.19909668 421.97      ]\n",
      " [422.71185303 414.33      ]\n",
      " [425.73574829 419.6       ]\n",
      " [418.04931641 419.49      ]\n",
      " [420.13375854 434.05      ]\n",
      " [438.92367554 434.48      ]\n",
      " [432.42370605 425.56      ]\n",
      " [430.86410522 418.07      ]\n",
      " [422.02471924 425.5       ]\n",
      " [424.51599121 436.13      ]\n",
      " [432.98001099 447.77      ]\n",
      " [448.13009644 449.87      ]\n",
      " [446.5723877  453.72      ]\n",
      " [450.21960449 468.04      ]\n",
      " [449.11224365 466.26      ]\n",
      " [448.97698975 457.85      ]\n",
      " [455.1859436  465.91      ]\n",
      " [458.15411377 443.4       ]\n",
      " [446.30813599 447.24      ]\n",
      " [441.93457031 455.04      ]\n",
      " [453.36251831 485.64      ]\n",
      " [450.50979614 476.89      ]\n",
      " [480.72067261 493.81      ]\n",
      " [460.97381592 493.16      ]\n",
      " [463.79916382 502.78      ]\n",
      " [473.15908813 507.76      ]\n",
      " [489.78533936 548.73      ]\n",
      " [522.27655029 525.5       ]\n",
      " [540.16125488 524.88      ]\n",
      " [536.77325439 523.26      ]\n",
      " [530.53094482 527.39      ]\n",
      " [509.39718628 492.99      ]\n",
      " [499.96322632 502.41      ]\n",
      " [503.67651367 490.1       ]\n",
      " [489.39996338 489.82      ]\n",
      " [476.95401001 477.58      ]\n",
      " [485.63589478 480.45      ]\n",
      " [486.66189575 495.65      ]\n",
      " [490.44522095 488.51      ]\n",
      " [482.05169678 484.48      ]\n",
      " [485.80807495 485.8       ]\n",
      " [485.65457153 488.88      ]\n",
      " [489.09207153 498.62      ]\n",
      " [507.11019897 509.64      ]\n",
      " [516.30718994 502.11      ]\n",
      " [501.13739014 509.08      ]\n",
      " [506.83578491 494.73      ]\n",
      " [501.88702393 483.38      ]\n",
      " [478.88098145 466.93      ]\n",
      " [468.67428589 475.47      ]\n",
      " [476.58584595 481.33      ]\n",
      " [474.99472046 482.68      ]\n",
      " [486.18615723 482.35      ]\n",
      " [483.57028198 491.87      ]\n",
      " [495.1300354  484.53      ]\n",
      " [483.09909058 497.9       ]\n",
      " [494.81628418 492.31      ]\n",
      " [492.39715576 488.81      ]\n",
      " [482.38943481 490.58      ]\n",
      " [482.19729614 547.53      ]\n",
      " [498.34820557 526.27      ]\n",
      " [513.94787598 523.89      ]\n",
      " [511.46075439 529.56      ]\n",
      " [512.99719238 556.55      ]\n",
      " [515.46374512 552.84      ]\n",
      " [537.35345459 525.75      ]\n",
      " [520.2701416  516.05      ]\n",
      " [511.48950195 507.02      ]\n",
      " [492.39306641 500.19      ]\n",
      " [496.31893921 480.67      ]\n",
      " [487.95388794 482.03      ]\n",
      " [482.32336426 476.26      ]\n",
      " [475.14465332 495.99      ]\n",
      " [485.00912476 483.86      ]\n",
      " [489.73834229 470.2       ]\n",
      " [471.92709351 469.96      ]\n",
      " [468.65255737 487.35      ]\n",
      " [487.79492188 491.17      ]\n",
      " [486.30511475 470.61      ]\n",
      " [486.71890259 473.08      ]\n",
      " [485.31262207 482.88      ]\n",
      " [480.26318359 490.65      ]\n",
      " [498.38006592 493.48      ]\n",
      " [487.04699707 500.03      ]\n",
      " [501.44891357 527.51      ]\n",
      " [524.89746094 503.06      ]\n",
      " [524.69726562 520.65      ]\n",
      " [516.1661377  505.87      ]\n",
      " [518.559021   534.66      ]\n",
      " [512.26672363 531.79      ]\n",
      " [523.18981934 539.44      ]\n",
      " [528.36328125 539.81      ]\n",
      " [537.74700928 554.09      ]\n",
      " [517.16619873 541.45      ]\n",
      " [527.85784912 541.94      ]\n",
      " [528.31427002 530.79      ]\n",
      " [537.72235107 530.72      ]\n",
      " [515.63146973 525.42      ]\n",
      " [513.56787109 489.05      ]\n",
      " [475.41275024 485.23      ]\n",
      " [488.2984314  488.28      ]\n",
      " [496.32861328 488.24      ]\n",
      " [483.15084839 488.93      ]\n",
      " [486.75274658 486.24      ]\n",
      " [488.99432373 504.21      ]\n",
      " [501.34030151 475.74      ]\n",
      " [474.09161377 484.12      ]\n",
      " [482.21447754 487.22      ]\n",
      " [489.94906616 496.95      ]\n",
      " [489.859375   513.76      ]\n",
      " [509.24749756 514.73      ]\n",
      " [511.31466675 470.5       ]\n",
      " [479.6098938  480.24      ]\n",
      " [471.94485474 490.76      ]\n",
      " [484.47439575 486.77      ]\n",
      " [486.81942749 482.84      ]\n",
      " [483.04467773 479.1       ]\n",
      " [486.69894409 480.63      ]\n",
      " [487.80740356 481.79      ]\n",
      " [484.52319336 484.67      ]\n",
      " [485.43203735 488.24      ]\n",
      " [490.94110107 476.62      ]\n",
      " [492.30053711 482.88      ]\n",
      " [484.69519043 485.        ]\n",
      " [487.03811646 491.36      ]\n",
      " [502.28149414 490.7       ]\n",
      " [500.4498291  504.58      ]\n",
      " [495.87445068 503.38      ]\n",
      " [502.39367676 497.52      ]\n",
      " [501.20870972 498.31      ]\n",
      " [497.42184448 515.78      ]\n",
      " [513.77484131 512.66      ]\n",
      " [522.10430908 493.6       ]\n",
      " [488.63998413 501.09      ]\n",
      " [509.08270264 503.22      ]\n",
      " [499.88638306 522.42      ]\n",
      " [506.18777466 519.78      ]\n",
      " [506.83746338 524.83      ]\n",
      " [505.93289185 532.9       ]\n",
      " [518.80426025 534.45      ]\n",
      " [531.93096924 528.91      ]\n",
      " [528.30651855 527.33      ]\n",
      " [519.76080322 514.48      ]\n",
      " [508.42800903 513.97      ]\n",
      " [490.73339844 519.12      ]\n",
      " [492.72421265 530.87      ]\n",
      " [522.29138184 524.59      ]\n",
      " [524.722229   540.73      ]]\n"
     ]
    }
   ],
   "source": [
    "y_pred = []\n",
    "train = [x for x in x_train]\n",
    "labels = [y for y in y_train]\n",
    "\n",
    "\n",
    "for index, row in enumerate(x_test):\n",
    "    model = model_fitting(train, labels)\n",
    "    y_pred_val = model.predict(asarray([row]))\n",
    "    y_pred.append(y_pred_val)\n",
    "    train.append(row)\n",
    "    labels.append(y_test[index])\n",
    "    print(y_test[index])\n",
    "\n",
    "y_pred = np.array(y_pred)\n",
    "\n",
    "print(np.concatenate((y_pred.reshape(len(y_pred),1), y_test.reshape(len(y_test),1)),1))"
   ],
   "metadata": {
    "collapsed": false,
    "pycharm": {
     "name": "#%%\n"
    }
   }
  },
  {
   "cell_type": "markdown",
   "source": [
    "# Obtaining Confusion Matrix and Accuracy Score for predictions"
   ],
   "metadata": {
    "collapsed": false
   }
  },
  {
   "cell_type": "code",
   "execution_count": 13,
   "outputs": [
    {
     "name": "stdout",
     "output_type": "stream",
     "text": [
      "\n",
      "Mean Absolute Error: \n"
     ]
    },
    {
     "data": {
      "text/plain": "11.79177583618164"
     },
     "execution_count": 13,
     "metadata": {},
     "output_type": "execute_result"
    }
   ],
   "source": [
    "from sklearn.metrics import mean_absolute_error\n",
    "\n",
    "\n",
    "print()\n",
    "print(\"Mean Absolute Error: \")\n",
    "mean_absolute_error(y_test, y_pred)"
   ],
   "metadata": {
    "collapsed": false,
    "pycharm": {
     "name": "#%%\n"
    }
   }
  },
  {
   "cell_type": "markdown",
   "source": [
    "# Classifying results"
   ],
   "metadata": {
    "collapsed": false
   }
  },
  {
   "cell_type": "code",
   "execution_count": 14,
   "outputs": [],
   "source": [
    "prediction_arr = []\n",
    "actuals_arr = []\n",
    "neutral_percentage = 0.002\n",
    "\n",
    "for i in range(1, len(y_pred)):\n",
    "    if y_pred[i] - y_test[i-1] > (y_pred[i] * neutral_percentage):\n",
    "            prediction_arr.append([1,0,0])\n",
    "    elif y_pred[i] - y_test[i-1]  < - (y_pred[i] * neutral_percentage):\n",
    "            prediction_arr.append([0,0,1])\n",
    "    else:\n",
    "            prediction_arr.append([0,1,0])\n",
    "\n",
    "for i in range(1, len(y_test)):\n",
    "    if y_test[i] - y_test[i-1] > (y_test[i] * neutral_percentage):\n",
    "            actuals_arr.append([1,0,0])\n",
    "    elif y_test[i] - y_test[i-1]  < - (y_test[i] * neutral_percentage):\n",
    "            actuals_arr.append([0,0,1])\n",
    "    else:\n",
    "            actuals_arr.append([0,1,0])\n",
    "\n",
    "actuals_arr = np.array(actuals_arr)\n",
    "prediction_arr = np.array(prediction_arr)"
   ],
   "metadata": {
    "collapsed": false,
    "pycharm": {
     "name": "#%%\n"
    }
   }
  },
  {
   "cell_type": "markdown",
   "source": [
    "# Results"
   ],
   "metadata": {
    "collapsed": false
   }
  },
  {
   "cell_type": "code",
   "execution_count": 15,
   "outputs": [
    {
     "name": "stdout",
     "output_type": "stream",
     "text": [
      "[[[ 79  20]\n",
      "  [ 61  39]]\n",
      "\n",
      " [[165  17]\n",
      "  [ 16   1]]\n",
      "\n",
      " [[ 59  58]\n",
      "  [ 18  64]]]\n",
      "\n",
      "Accuracy Score: \n"
     ]
    },
    {
     "data": {
      "text/plain": "0.5226130653266332"
     },
     "execution_count": 15,
     "metadata": {},
     "output_type": "execute_result"
    }
   ],
   "source": [
    "from sklearn.metrics import multilabel_confusion_matrix, accuracy_score\n",
    "\n",
    "# Confusion Matrix: Columns = 0, 1 (Predicted Label)\n",
    "# Confusion Matrix: Rows = 0, 1 (Actual Label)\n",
    "cm = multilabel_confusion_matrix(np.argmax(actuals_arr, axis=1), np.argmax(prediction_arr, axis=1))\n",
    "print(cm)\n",
    "print()\n",
    "\n",
    "print(\"Accuracy Score: \")\n",
    "accuracy_score(actuals_arr, prediction_arr)"
   ],
   "metadata": {
    "collapsed": false,
    "pycharm": {
     "name": "#%%\n"
    }
   }
  },
  {
   "cell_type": "markdown",
   "source": [
    "# Graphs"
   ],
   "metadata": {
    "collapsed": false
   }
  },
  {
   "cell_type": "code",
   "execution_count": 16,
   "outputs": [
    {
     "data": {
      "text/plain": "[<matplotlib.lines.Line2D at 0x14fcaba5f48>]"
     },
     "execution_count": 16,
     "metadata": {},
     "output_type": "execute_result"
    },
    {
     "data": {
      "text/plain": "<Figure size 432x288 with 1 Axes>",
      "image/png": "[encoded data removed]"
     },
     "metadata": {
      "needs_background": "light"
     },
     "output_type": "display_data"
    }
   ],
   "source": [
    "test_nos = []\n",
    "for i, val in enumerate(y_test):\n",
    "    test_nos.append(i)\n",
    "plt.plot(test_nos, y_test)\n",
    "plt.plot(test_nos, y_pred, color='green')"
   ],
   "metadata": {
    "collapsed": false,
    "pycharm": {
     "name": "#%%\n"
    }
   }
  }
 ],
 "metadata": {
  "kernelspec": {
   "display_name": "Python 3",
   "language": "python",
   "name": "python3"
  },
  "language_info": {
   "codemirror_mode": {
    "name": "ipython",
    "version": 2
   },
   "file_extension": ".py",
   "mimetype": "text/x-python",
   "name": "python",
   "nbconvert_exporter": "python",
   "pygments_lexer": "ipython2",
   "version": "2.7.6"
  }
 },
 "nbformat": 4,
 "nbformat_minor": 0
}