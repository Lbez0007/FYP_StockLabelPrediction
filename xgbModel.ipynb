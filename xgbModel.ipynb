{
 "cells": [
  {
   "cell_type": "markdown",
   "source": [
    "## Import Packages"
   ],
   "metadata": {
    "collapsed": false
   }
  },
  {
   "cell_type": "code",
   "execution_count": 1,
   "outputs": [
    {
     "name": "stdout",
     "output_type": "stream",
     "text": [
      "1.3.3\n"
     ]
    }
   ],
   "source": [
    "import numpy as np\n",
    "from numpy import asarray\n",
    "import matplotlib\n",
    "import matplotlib.pyplot as plt\n",
    "import pandas as pd\n",
    "import glob\n",
    "import os\n",
    "from sklearn.model_selection import  train_test_split\n",
    "from sklearn.preprocessing import StandardScaler\n",
    "import tensorflow as tf\n",
    "import ntpath\n",
    "import xgboost as xgb\n",
    "from xgboost import XGBRegressor\n",
    "print(xgb.__version__)\n",
    "my_seed = 64\n",
    "tf.random.set_seed(my_seed)\n",
    "np.random.seed(my_seed)"
   ],
   "metadata": {
    "collapsed": false,
    "pycharm": {
     "name": "#%%\n"
    }
   }
  },
  {
   "cell_type": "markdown",
   "source": [
    "## Import CSVs"
   ],
   "metadata": {
    "collapsed": false
   }
  },
  {
   "cell_type": "code",
   "execution_count": 2,
   "outputs": [
    {
     "name": "stdout",
     "output_type": "stream",
     "text": [
      "C:\\FYP - Luke Bezzina\\Code\\mlpLearning\\..\\..\\Datasets\\processed\\regression_10d\n",
      "Stock: \n",
      "AAL_3d.csv\n"
     ]
    }
   ],
   "source": [
    "ROOT_DIR = os.path.abspath(os.curdir)\n",
    "path = ROOT_DIR + '\\\\..\\\\..\\\\Datasets\\\\processed\\\\regression_10d'\n",
    "print(path)\n",
    "\n",
    "csvfiles = glob.glob(path + \"/*.csv\")\n",
    "dfs = []\n",
    "\n",
    "for file in csvfiles:\n",
    "    df = pd.read_csv(file)\n",
    "    df.name = ntpath.basename(file)\n",
    "    dfs.append(df)\n",
    "\n",
    "df = dfs[1]\n",
    "print(\"Stock: \")\n",
    "print(df.name)"
   ],
   "metadata": {
    "collapsed": false,
    "pycharm": {
     "name": "#%%\n"
    }
   }
  },
  {
   "cell_type": "markdown",
   "source": [
    "# Splitting dataset in dependent and independent variables"
   ],
   "metadata": {
    "collapsed": false
   }
  },
  {
   "cell_type": "code",
   "execution_count": 3,
   "outputs": [],
   "source": [
    "x = np.array(df.iloc[:, 1:-1].values, dtype=np.float)\n",
    "y = np.array(df.iloc[:, -1:].values)\n"
   ],
   "metadata": {
    "collapsed": false,
    "pycharm": {
     "name": "#%%\n"
    }
   }
  },
  {
   "cell_type": "markdown",
   "source": [
    "# Splitting dataset (training + testing)"
   ],
   "metadata": {
    "collapsed": false
   }
  },
  {
   "cell_type": "code",
   "execution_count": 4,
   "outputs": [
    {
     "name": "stdout",
     "output_type": "stream",
     "text": [
      "Train - Independent Variables\n",
      "[[ 4.00000000e-01 -4.10000000e-01 -9.00000000e-02 ... -3.01256670e-02\n",
      "   8.91697258e-01  4.76400000e+01]\n",
      " [-8.10000000e-01 -4.90000000e-01  3.80000000e-01 ... -5.45020542e-02\n",
      "   8.68665643e-01  4.72600000e+01]\n",
      " [ 3.20000000e-01  1.19000000e+00  2.59000000e+00 ... -3.55820268e-02\n",
      "   7.28497769e-01  4.80000000e+01]\n",
      " ...\n",
      " [-1.55000000e+00 -1.74000000e+00 -2.75000000e+00 ...  5.67706742e-02\n",
      "   1.74409977e+00  1.34500000e+01]\n",
      " [-1.90000000e-01 -1.20000000e+00 -5.20000000e-01 ...  5.36141871e-02\n",
      "   1.70534923e+00  1.43100000e+01]\n",
      " [-1.01000000e+00 -3.30000000e-01 -2.82000000e+00 ...  8.95715128e-02\n",
      "   1.47717162e+00  1.59200000e+01]]\n",
      "Test - Independent Variables\n",
      "[[ 0.68       -1.81       -1.88       ...  0.07625844  1.34518735\n",
      "  15.58      ]\n",
      " [-2.49       -2.56       -3.78       ...  0.07585896  1.51228337\n",
      "  11.65      ]\n",
      " [-0.07       -1.29        0.96       ...  0.07305005  2.04293319\n",
      "  10.29      ]\n",
      " ...\n",
      " [ 0.83       -0.11       -0.46       ... -0.02150539  0.66495789\n",
      "  15.89      ]\n",
      " [-0.94       -1.29       -0.98       ... -0.05743137  0.54882055\n",
      "  15.66      ]\n",
      " [-0.35       -0.04       -0.19       ... -0.03051814  0.51176264\n",
      "  16.06      ]]\n"
     ]
    }
   ],
   "source": [
    "x_train, x_test, y_train, y_test = train_test_split(x, y, test_size=0.2, shuffle=False, random_state=32)\n",
    "\n",
    "print(\"Train - Independent Variables\")\n",
    "print(x_train)\n",
    "print(\"Test - Independent Variables\")\n",
    "print(x_test)"
   ],
   "metadata": {
    "collapsed": false,
    "pycharm": {
     "name": "#%%\n"
    }
   }
  },
  {
   "cell_type": "markdown",
   "source": [
    "# Predicting using XGBoost Algorithm"
   ],
   "metadata": {
    "collapsed": false
   }
  },
  {
   "cell_type": "code",
   "execution_count": 5,
   "outputs": [],
   "source": [
    "def model_fitting(train, labels):\n",
    "    model = XGBRegressor(objective='reg:squarederror', n_estimators=1000, random_state=my_seed)\n",
    "    model.fit(asarray(train), asarray(labels))\n",
    "    return model"
   ],
   "metadata": {
    "collapsed": false,
    "pycharm": {
     "name": "#%%\n"
    }
   }
  },
  {
   "cell_type": "markdown",
   "source": [
    "# Predicting Test Set Results"
   ],
   "metadata": {
    "collapsed": false
   }
  },
  {
   "cell_type": "code",
   "execution_count": 6,
   "outputs": [
    {
     "name": "stdout",
     "output_type": "stream",
     "text": [
      "[10.77333333]\n",
      "[10.30666667]\n",
      "[11.51666667]\n",
      "[13.18666667]\n",
      "[14.99]\n",
      "[15.03]\n",
      "[13.98333333]\n",
      "[12.82666667]\n",
      "[11.71]\n",
      "[10.98]\n",
      "[10.04666667]\n",
      "[9.65]\n",
      "[9.70333333]\n",
      "[10.35]\n",
      "[11.35333333]\n",
      "[11.8]\n",
      "[12.00333333]\n",
      "[11.93]\n",
      "[11.76666667]\n",
      "[11.64333333]\n",
      "[11.23333333]\n",
      "[11.21]\n",
      "[10.77666667]\n",
      "[10.50666667]\n",
      "[10.27666667]\n",
      "[10.19333333]\n",
      "[10.53]\n",
      "[11.30333333]\n",
      "[11.96666667]\n",
      "[11.76]\n",
      "[10.82333333]\n",
      "[9.99]\n",
      "[9.52666667]\n",
      "[9.43333333]\n",
      "[9.64333333]\n",
      "[9.92666667]\n",
      "[9.96333333]\n",
      "[9.62]\n",
      "[9.30333333]\n",
      "[9.1]\n",
      "[9.35333333]\n",
      "[9.51666667]\n",
      "[9.79333333]\n",
      "[9.8]\n",
      "[9.82]\n",
      "[10.24333333]\n",
      "[10.94]\n",
      "[11.36666667]\n",
      "[11.15333333]\n",
      "[10.86333333]\n",
      "[10.94333333]\n",
      "[11.39333333]\n",
      "[13.26333333]\n",
      "[15.72]\n",
      "[18.54]\n",
      "[19.15]\n",
      "[18.62666667]\n",
      "[16.65]\n",
      "[16.04666667]\n",
      "[15.94]\n",
      "[16.82333333]\n",
      "[16.90333333]\n",
      "[16.83333333]\n",
      "[16.49]\n",
      "[15.80333333]\n",
      "[14.97333333]\n",
      "[13.98666667]\n",
      "[13.40333333]\n",
      "[12.86333333]\n",
      "[12.95666667]\n",
      "[12.92333333]\n",
      "[13.06666667]\n",
      "[12.79333333]\n",
      "[12.70333333]\n",
      "[12.40333333]\n",
      "[12.23333333]\n",
      "[11.69333333]\n",
      "[11.70333333]\n",
      "[11.58333333]\n",
      "[11.71333333]\n",
      "[12.21333333]\n",
      "[12.48666667]\n",
      "[12.6]\n",
      "[11.94333333]\n",
      "[11.61666667]\n",
      "[11.43333333]\n",
      "[11.53333333]\n",
      "[11.50666667]\n",
      "[11.51666667]\n",
      "[11.51666667]\n",
      "[11.52]\n",
      "[11.45]\n",
      "[11.23333333]\n",
      "[11.12666667]\n",
      "[11.22333333]\n",
      "[11.70333333]\n",
      "[12.35666667]\n",
      "[12.87666667]\n",
      "[13.35666667]\n",
      "[13.58666667]\n",
      "[13.75666667]\n",
      "[13.52333333]\n",
      "[13.39]\n",
      "[13.08333333]\n",
      "[12.85]\n",
      "[12.63333333]\n",
      "[12.59333333]\n",
      "[12.44666667]\n",
      "[12.7]\n",
      "[12.91333333]\n",
      "[13.12333333]\n",
      "[13.07]\n",
      "[13.22]\n",
      "[13.30666667]\n",
      "[13.24666667]\n",
      "[13.12666667]\n",
      "[13.23]\n",
      "[13.4]\n",
      "[13.53333333]\n",
      "[13.43]\n",
      "[13.23]\n",
      "[13.00333333]\n",
      "[13.07333333]\n",
      "[13.11666667]\n",
      "[13.4]\n",
      "[13.52333333]\n",
      "[13.54]\n",
      "[13.01]\n",
      "[12.58]\n",
      "[12.16]\n",
      "[12.01333333]\n",
      "[11.99666667]\n",
      "[12.27333333]\n",
      "[12.43333333]\n",
      "[12.43333333]\n",
      "[12.37333333]\n",
      "[12.62333333]\n",
      "[12.9]\n",
      "[12.88333333]\n",
      "[12.90666667]\n",
      "[12.91666667]\n",
      "[13.14]\n",
      "[13.09]\n",
      "[12.78]\n",
      "[12.5]\n",
      "[12.27]\n",
      "[12.35]\n",
      "[12.41666667]\n",
      "[12.60666667]\n",
      "[12.7]\n",
      "[12.89666667]\n",
      "[12.83]\n",
      "[12.51666667]\n",
      "[11.87666667]\n",
      "[11.32666667]\n",
      "[11.11333333]\n",
      "[11.13]\n",
      "[11.21]\n",
      "[11.24]\n",
      "[11.15]\n",
      "[11.28666667]\n",
      "[11.35666667]\n",
      "[12.08666667]\n",
      "[12.34666667]\n",
      "[12.54]\n",
      "[12.05333333]\n",
      "[12.00666667]\n",
      "[12.25666667]\n",
      "[12.57666667]\n",
      "[12.74333333]\n",
      "[12.74333333]\n",
      "[12.68666667]\n",
      "[12.96]\n",
      "[13.63666667]\n",
      "[14.44]\n",
      "[14.91333333]\n",
      "[14.68333333]\n",
      "[14.46]\n",
      "[14.42]\n",
      "[15.07333333]\n",
      "[15.78333333]\n",
      "[16.56666667]\n",
      "[17.08]\n",
      "[17.33333333]\n",
      "[17.59333333]\n",
      "[17.4]\n",
      "[17.24666667]\n",
      "[16.92]\n",
      "[16.85666667]\n",
      "[16.89]\n",
      "[16.72333333]\n",
      "[16.47]\n",
      "[16.03]\n",
      "[15.82333333]\n",
      "[15.67666667]\n",
      "[15.87]\n",
      "[15.86]\n",
      "[16.02333333]\n",
      "[15.92666667]\n",
      "[[14.79091549 10.77333333]\n",
      " [14.96539593 10.30666667]\n",
      " [15.33674431 11.51666667]\n",
      " [13.66428757 13.18666667]\n",
      " [13.66780472 14.99      ]\n",
      " [14.53378105 15.03      ]\n",
      " [11.80515575 13.98333333]\n",
      " [12.36401081 12.82666667]\n",
      " [13.03506184 11.71      ]\n",
      " [12.4578476  10.98      ]\n",
      " [11.07416439 10.04666667]\n",
      " [11.3789444   9.65      ]\n",
      " [11.23399925  9.70333333]\n",
      " [10.61377811 10.35      ]\n",
      " [12.57794571 11.35333333]\n",
      " [14.28269291 11.8       ]\n",
      " [13.15147686 12.00333333]\n",
      " [11.65278625 11.93      ]\n",
      " [10.21747017 11.76666667]\n",
      " [12.00287914 11.64333333]\n",
      " [10.75454426 11.23333333]\n",
      " [12.11519909 11.21      ]\n",
      " [11.04667664 10.77666667]\n",
      " [10.37727356 10.50666667]\n",
      " [10.21375656 10.27666667]\n",
      " [11.0138998  10.19333333]\n",
      " [10.31484604 10.53      ]\n",
      " [10.79853535 11.30333333]\n",
      " [10.85675716 11.96666667]\n",
      " [11.71059036 11.76      ]\n",
      " [11.86399841 10.82333333]\n",
      " [11.84855461  9.99      ]\n",
      " [12.09170437  9.52666667]\n",
      " [11.40249538  9.43333333]\n",
      " [10.47670841  9.64333333]\n",
      " [10.43730259  9.92666667]\n",
      " [10.50670147  9.96333333]\n",
      " [11.11076355  9.62      ]\n",
      " [10.44796467  9.30333333]\n",
      " [10.39099598  9.1       ]\n",
      " [10.84708405  9.35333333]\n",
      " [ 9.44133091  9.51666667]\n",
      " [ 9.47645092  9.79333333]\n",
      " [10.08153725  9.8       ]\n",
      " [10.12803459  9.82      ]\n",
      " [ 9.70981598 10.24333333]\n",
      " [ 9.9420166  10.94      ]\n",
      " [ 9.12574291 11.36666667]\n",
      " [11.63827515 11.15333333]\n",
      " [11.36636066 10.86333333]\n",
      " [10.55793858 10.94333333]\n",
      " [10.91828251 11.39333333]\n",
      " [11.0510025  13.26333333]\n",
      " [11.96292019 15.72      ]\n",
      " [12.70860195 18.54      ]\n",
      " [15.18168163 19.15      ]\n",
      " [16.66897964 18.62666667]\n",
      " [19.48339844 16.65      ]\n",
      " [15.61034966 16.04666667]\n",
      " [16.1229229  15.94      ]\n",
      " [15.403265   16.82333333]\n",
      " [16.98952484 16.90333333]\n",
      " [14.41552162 16.83333333]\n",
      " [15.48958778 16.49      ]\n",
      " [15.62240982 15.80333333]\n",
      " [14.31336212 14.97333333]\n",
      " [13.74784851 13.98666667]\n",
      " [10.78815651 13.40333333]\n",
      " [13.25971413 12.86333333]\n",
      " [13.58238888 12.95666667]\n",
      " [14.00495243 12.92333333]\n",
      " [13.99408913 13.06666667]\n",
      " [15.00835133 12.79333333]\n",
      " [12.86008549 12.70333333]\n",
      " [12.12335873 12.40333333]\n",
      " [11.62825298 12.23333333]\n",
      " [11.41829491 11.69333333]\n",
      " [11.81122398 11.70333333]\n",
      " [11.98827553 11.58333333]\n",
      " [11.63653278 11.71333333]\n",
      " [12.6201334  12.21333333]\n",
      " [11.551404   12.48666667]\n",
      " [11.94273663 12.6       ]\n",
      " [13.72332096 11.94333333]\n",
      " [11.89770222 11.61666667]\n",
      " [10.90186214 11.43333333]\n",
      " [11.30408669 11.53333333]\n",
      " [11.97907734 11.50666667]\n",
      " [12.73843384 11.51666667]\n",
      " [12.16359615 11.51666667]\n",
      " [11.54571342 11.52      ]\n",
      " [11.42151451 11.45      ]\n",
      " [11.20904827 11.23333333]\n",
      " [11.98224545 11.12666667]\n",
      " [11.666008   11.22333333]\n",
      " [11.37025928 11.70333333]\n",
      " [10.98602104 12.35666667]\n",
      " [11.61578274 12.87666667]\n",
      " [13.63066101 13.35666667]\n",
      " [12.66674232 13.58666667]\n",
      " [13.29428768 13.75666667]\n",
      " [15.72706032 13.52333333]\n",
      " [14.42296219 13.39      ]\n",
      " [15.22412014 13.08333333]\n",
      " [12.2482357  12.85      ]\n",
      " [14.39765739 12.63333333]\n",
      " [11.45602226 12.59333333]\n",
      " [12.40342522 12.44666667]\n",
      " [10.98030663 12.7       ]\n",
      " [12.34704876 12.91333333]\n",
      " [11.41568184 13.12333333]\n",
      " [12.74979591 13.07      ]\n",
      " [12.19015694 13.22      ]\n",
      " [11.7665329  13.30666667]\n",
      " [12.24866867 13.24666667]\n",
      " [13.82483768 13.12666667]\n",
      " [13.66103935 13.23      ]\n",
      " [12.61927223 13.4       ]\n",
      " [12.36164188 13.53333333]\n",
      " [12.72527981 13.43      ]\n",
      " [13.68260479 13.23      ]\n",
      " [13.28125477 13.00333333]\n",
      " [13.25676918 13.07333333]\n",
      " [13.21073723 13.11666667]\n",
      " [13.73443508 13.4       ]\n",
      " [12.81157684 13.52333333]\n",
      " [13.39074612 13.54      ]\n",
      " [13.26848602 13.01      ]\n",
      " [13.05381393 12.58      ]\n",
      " [13.37439919 12.16      ]\n",
      " [11.7070179  12.01333333]\n",
      " [11.90655899 11.99666667]\n",
      " [12.64541149 12.27333333]\n",
      " [12.85407352 12.43333333]\n",
      " [12.2147131  12.43333333]\n",
      " [12.9246788  12.37333333]\n",
      " [11.90522289 12.62333333]\n",
      " [11.45614433 12.9       ]\n",
      " [11.73902607 12.88333333]\n",
      " [13.17086029 12.90666667]\n",
      " [13.76290703 12.91666667]\n",
      " [12.26920795 13.14      ]\n",
      " [13.87902832 13.09      ]\n",
      " [14.23661137 12.78      ]\n",
      " [13.21602917 12.5       ]\n",
      " [13.23273087 12.27      ]\n",
      " [12.35945988 12.35      ]\n",
      " [12.3548584  12.41666667]\n",
      " [12.59070969 12.60666667]\n",
      " [12.88535786 12.7       ]\n",
      " [12.69198322 12.89666667]\n",
      " [12.13650894 12.83      ]\n",
      " [12.39710331 12.51666667]\n",
      " [13.46035671 11.87666667]\n",
      " [12.69424629 11.32666667]\n",
      " [11.67011261 11.11333333]\n",
      " [12.59587193 11.13      ]\n",
      " [10.61066818 11.21      ]\n",
      " [11.72858429 11.24      ]\n",
      " [10.87008762 11.15      ]\n",
      " [11.81973076 11.28666667]\n",
      " [11.56698704 11.35666667]\n",
      " [11.28430939 12.08666667]\n",
      " [11.40563679 12.34666667]\n",
      " [11.60604095 12.54      ]\n",
      " [12.4782238  12.05333333]\n",
      " [12.79732418 12.00666667]\n",
      " [11.54222488 12.25666667]\n",
      " [12.13557434 12.57666667]\n",
      " [12.32607174 12.74333333]\n",
      " [12.81471634 12.74333333]\n",
      " [12.8831358  12.68666667]\n",
      " [12.02859688 12.96      ]\n",
      " [13.05966663 13.63666667]\n",
      " [12.19178867 14.44      ]\n",
      " [12.85610008 14.91333333]\n",
      " [13.87761879 14.68333333]\n",
      " [15.34607792 14.46      ]\n",
      " [14.66931438 14.42      ]\n",
      " [13.48326397 15.07333333]\n",
      " [15.00113487 15.78333333]\n",
      " [14.90396404 16.56666667]\n",
      " [16.95199776 17.08      ]\n",
      " [16.2816124  17.33333333]\n",
      " [16.40668488 17.59333333]\n",
      " [15.90677547 17.4       ]\n",
      " [16.35006142 17.24666667]\n",
      " [17.47113609 16.92      ]\n",
      " [15.89786243 16.85666667]\n",
      " [17.05456734 16.89      ]\n",
      " [16.58740425 16.72333333]\n",
      " [16.17664528 16.47      ]\n",
      " [15.92898941 16.03      ]\n",
      " [15.66506767 15.82333333]\n",
      " [15.39949894 15.67666667]\n",
      " [14.23654556 15.87      ]\n",
      " [14.29645252 15.86      ]\n",
      " [14.10543156 16.02333333]\n",
      " [16.02920914 15.92666667]]\n"
     ]
    }
   ],
   "source": [
    "y_pred = []\n",
    "train = [x for x in x_train]\n",
    "labels = [y for y in y_train]\n",
    "\n",
    "\n",
    "for index, row in enumerate(x_test):\n",
    "    model = model_fitting(train, labels)\n",
    "    y_pred_val = model.predict(asarray([row]))\n",
    "    y_pred.append(y_pred_val)\n",
    "    train.append(row)\n",
    "    labels.append(y_test[index])\n",
    "    print(y_test[index])\n",
    "\n",
    "y_pred = np.array(y_pred)\n",
    "\n",
    "print(np.concatenate((y_pred.reshape(len(y_pred),1), y_test.reshape(len(y_test),1)),1))"
   ],
   "metadata": {
    "collapsed": false,
    "pycharm": {
     "name": "#%%\n"
    }
   }
  },
  {
   "cell_type": "markdown",
   "source": [
    "# Obtaining Confusion Matrix and Accuracy Score for predictions"
   ],
   "metadata": {
    "collapsed": false
   }
  },
  {
   "cell_type": "code",
   "execution_count": 7,
   "outputs": [
    {
     "name": "stdout",
     "output_type": "stream",
     "text": [
      "\n",
      "Mean Absolute Error: \n"
     ]
    },
    {
     "data": {
      "text/plain": "0.9158583424758272"
     },
     "execution_count": 7,
     "metadata": {},
     "output_type": "execute_result"
    }
   ],
   "source": [
    "from sklearn.metrics import mean_absolute_error\n",
    "\n",
    "\n",
    "print()\n",
    "print(\"Mean Absolute Error: \")\n",
    "mean_absolute_error(y_test, y_pred)"
   ],
   "metadata": {
    "collapsed": false,
    "pycharm": {
     "name": "#%%\n"
    }
   }
  },
  {
   "cell_type": "markdown",
   "source": [
    "# Classifying results"
   ],
   "metadata": {
    "collapsed": false
   }
  },
  {
   "cell_type": "code",
   "execution_count": 8,
   "outputs": [],
   "source": [
    "prediction_arr = []\n",
    "actuals_arr = []\n",
    "neutral_percentage = 0.002\n",
    "\n",
    "for i in range(1, len(y_pred)):\n",
    "    if y_pred[i] - y_test[i-1] > (y_pred[i] * neutral_percentage):\n",
    "            prediction_arr.append([1,0,0])\n",
    "    elif y_pred[i] - y_test[i-1]  < - (y_pred[i] * neutral_percentage):\n",
    "            prediction_arr.append([0,0,1])\n",
    "    else:\n",
    "            prediction_arr.append([0,1,0])\n",
    "\n",
    "for i in range(1, len(y_test)):\n",
    "    if y_test[i] - y_test[i-1] > (y_test[i] * neutral_percentage):\n",
    "            actuals_arr.append([1,0,0])\n",
    "    elif y_test[i] - y_test[i-1]  < - (y_test[i] * neutral_percentage):\n",
    "            actuals_arr.append([0,0,1])\n",
    "    else:\n",
    "            actuals_arr.append([0,1,0])\n",
    "\n",
    "actuals_arr = np.array(actuals_arr)\n",
    "prediction_arr = np.array(prediction_arr)"
   ],
   "metadata": {
    "collapsed": false,
    "pycharm": {
     "name": "#%%\n"
    }
   }
  },
  {
   "cell_type": "markdown",
   "source": [
    "# Results"
   ],
   "metadata": {
    "collapsed": false
   }
  },
  {
   "cell_type": "code",
   "execution_count": 9,
   "outputs": [
    {
     "name": "stdout",
     "output_type": "stream",
     "text": [
      "[[[ 52  58]\n",
      "  [ 50  38]]\n",
      "\n",
      " [[180   3]\n",
      "  [ 15   0]]\n",
      "\n",
      " [[ 50  53]\n",
      "  [ 49  46]]]\n",
      "\n",
      "Accuracy Score: \n"
     ]
    },
    {
     "data": {
      "text/plain": "0.42424242424242425"
     },
     "execution_count": 9,
     "metadata": {},
     "output_type": "execute_result"
    }
   ],
   "source": [
    "from sklearn.metrics import multilabel_confusion_matrix, accuracy_score\n",
    "\n",
    "# Confusion Matrix: Columns = 0, 1 (Predicted Label)\n",
    "# Confusion Matrix: Rows = 0, 1 (Actual Label)\n",
    "cm = multilabel_confusion_matrix(np.argmax(actuals_arr, axis=1), np.argmax(prediction_arr, axis=1))\n",
    "print(cm)\n",
    "print()\n",
    "\n",
    "print(\"Accuracy Score: \")\n",
    "accuracy_score(actuals_arr, prediction_arr)"
   ],
   "metadata": {
    "collapsed": false,
    "pycharm": {
     "name": "#%%\n"
    }
   }
  },
  {
   "cell_type": "markdown",
   "source": [
    "# Graphs"
   ],
   "metadata": {
    "collapsed": false
   }
  },
  {
   "cell_type": "code",
   "execution_count": 10,
   "outputs": [
    {
     "data": {
      "text/plain": "[<matplotlib.lines.Line2D at 0x243924fe388>]"
     },
     "execution_count": 10,
     "metadata": {},
     "output_type": "execute_result"
    },
    {
     "data": {
      "text/plain": "<Figure size 432x288 with 1 Axes>",
      "image/png": "[encoded data removed]"
     },
     "metadata": {
      "needs_background": "light"
     },
     "output_type": "display_data"
    }
   ],
   "source": [
    "test_nos = []\n",
    "for i, val in enumerate(y_test):\n",
    "    test_nos.append(i)\n",
    "plt.plot(test_nos, y_test)\n",
    "plt.plot(test_nos, y_pred, color='green')"
   ],
   "metadata": {
    "collapsed": false,
    "pycharm": {
     "name": "#%%\n"
    }
   }
  }
 ],
 "metadata": {
  "kernelspec": {
   "display_name": "Python 3",
   "language": "python",
   "name": "python3"
  },
  "language_info": {
   "codemirror_mode": {
    "name": "ipython",
    "version": 2
   },
   "file_extension": ".py",
   "mimetype": "text/x-python",
   "name": "python",
   "nbconvert_exporter": "python",
   "pygments_lexer": "ipython2",
   "version": "2.7.6"
  }
 },
 "nbformat": 4,
 "nbformat_minor": 0
}